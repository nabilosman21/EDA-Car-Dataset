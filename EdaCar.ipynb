{
 "cells": [
  {
   "cell_type": "markdown",
   "metadata": {},
   "source": [
    "# Car Dataset Exploratory Data Analysis (EDA) Project\n",
    "\n",
    "## Introduction\n",
    "In this project, I will conduct an in-depth exploratory data analysis (EDA) on a car dataset. The goal is to clean, analyze, and gain insights into the dataset by leveraging various data manipulation techniques. This will involve identifying patterns, understanding the distribution of data, and performing operations that help in better data interpretation. The project will cover essential data analysis tasks such as data cleaning, filtering, and transformation.\n",
    "\n",
    "## Commands Used in This Project:\n",
    "- **`import pandas as pd`**: To import the Pandas library for data manipulation and analysis.\n",
    "- **`pd.read_csv`**: To load the CSV file into the Jupyter notebook.\n",
    "- **`head()`**: Displays the first N rows of the data (default is 5).\n",
    "- **`shape`**: Shows the total number of rows and columns in the DataFrame.\n",
    "- **`df.isnull().sum()`**: Detects missing values in each column of the DataFrame.\n",
    "- **`fillna()`**: Fills null values in a column with a specified value.\n",
    "- **`value_counts`**: Shows the unique values and their counts in a single column.\n",
    "- **`isin()`**: Filters records that include specific elements.\n",
    "- **`apply()`**: Applies a function to each element along any axis of the DataFrame.\n",
    "\n",
    "## Questions and Instructions:\n",
    "1. **Data Cleaning**: Identify all null values in the dataset. If any null values are found in a column, replace them with the mean of that column.\n",
    "2. **Value Counts**: What are the different types of car makes in the dataset? Display the count of occurrences for each make.\n",
    "3. **Filtering**: Show all records where the origin of the car is either Asia or Europe.\n",
    "4. **Removing Unwanted Records**: Remove all rows where the car's weight exceeds 4000.\n",
    "5. **Applying Functions on a Column**: Increase all values in the 'MPG_City' column by 3 to analyze the potential impact on fuel efficiency.\n",
    "\n",
    "## Objective\n",
    "By the end of this project, the aim is to have a cleaner and more insightful version of the car dataset, with key findings on car types, regional origins, and performance metrics. This will help understand trends, identify anomalies, and prepare the data for further analysis or machine learning tasks.\n"
   ]
  },
  {
   "cell_type": "code",
   "execution_count": 1,
   "metadata": {},
   "outputs": [],
   "source": [
    "import pandas as pd"
   ]
  },
  {
   "cell_type": "code",
   "execution_count": 2,
   "metadata": {},
   "outputs": [],
   "source": [
    "car = pd.read_csv(\"car.csv\")"
   ]
  },
  {
   "cell_type": "code",
   "execution_count": 3,
   "metadata": {},
   "outputs": [
    {
     "data": {
      "text/html": [
       "<div>\n",
       "<style scoped>\n",
       "    .dataframe tbody tr th:only-of-type {\n",
       "        vertical-align: middle;\n",
       "    }\n",
       "\n",
       "    .dataframe tbody tr th {\n",
       "        vertical-align: top;\n",
       "    }\n",
       "\n",
       "    .dataframe thead th {\n",
       "        text-align: right;\n",
       "    }\n",
       "</style>\n",
       "<table border=\"1\" class=\"dataframe\">\n",
       "  <thead>\n",
       "    <tr style=\"text-align: right;\">\n",
       "      <th></th>\n",
       "      <th>Make</th>\n",
       "      <th>Model</th>\n",
       "      <th>Type</th>\n",
       "      <th>Origin</th>\n",
       "      <th>DriveTrain</th>\n",
       "      <th>MSRP</th>\n",
       "      <th>Invoice</th>\n",
       "      <th>EngineSize</th>\n",
       "      <th>Cylinders</th>\n",
       "      <th>Horsepower</th>\n",
       "      <th>MPG_City</th>\n",
       "      <th>MPG_Highway</th>\n",
       "      <th>Weight</th>\n",
       "      <th>Wheelbase</th>\n",
       "      <th>Length</th>\n",
       "    </tr>\n",
       "  </thead>\n",
       "  <tbody>\n",
       "    <tr>\n",
       "      <th>0</th>\n",
       "      <td>Acura</td>\n",
       "      <td>MDX</td>\n",
       "      <td>SUV</td>\n",
       "      <td>Asia</td>\n",
       "      <td>All</td>\n",
       "      <td>$36,945</td>\n",
       "      <td>$33,337</td>\n",
       "      <td>3.5</td>\n",
       "      <td>6.0</td>\n",
       "      <td>265.0</td>\n",
       "      <td>17.0</td>\n",
       "      <td>23.0</td>\n",
       "      <td>4451.0</td>\n",
       "      <td>106.0</td>\n",
       "      <td>189.0</td>\n",
       "    </tr>\n",
       "    <tr>\n",
       "      <th>1</th>\n",
       "      <td>Acura</td>\n",
       "      <td>RSX Type S 2dr</td>\n",
       "      <td>Sedan</td>\n",
       "      <td>Asia</td>\n",
       "      <td>Front</td>\n",
       "      <td>$23,820</td>\n",
       "      <td>$21,761</td>\n",
       "      <td>2.0</td>\n",
       "      <td>4.0</td>\n",
       "      <td>200.0</td>\n",
       "      <td>24.0</td>\n",
       "      <td>31.0</td>\n",
       "      <td>2778.0</td>\n",
       "      <td>101.0</td>\n",
       "      <td>172.0</td>\n",
       "    </tr>\n",
       "    <tr>\n",
       "      <th>2</th>\n",
       "      <td>Acura</td>\n",
       "      <td>TSX 4dr</td>\n",
       "      <td>Sedan</td>\n",
       "      <td>Asia</td>\n",
       "      <td>Front</td>\n",
       "      <td>$26,990</td>\n",
       "      <td>$24,647</td>\n",
       "      <td>2.4</td>\n",
       "      <td>4.0</td>\n",
       "      <td>200.0</td>\n",
       "      <td>22.0</td>\n",
       "      <td>29.0</td>\n",
       "      <td>3230.0</td>\n",
       "      <td>105.0</td>\n",
       "      <td>183.0</td>\n",
       "    </tr>\n",
       "    <tr>\n",
       "      <th>3</th>\n",
       "      <td>Acura</td>\n",
       "      <td>TL 4dr</td>\n",
       "      <td>Sedan</td>\n",
       "      <td>Asia</td>\n",
       "      <td>Front</td>\n",
       "      <td>$33,195</td>\n",
       "      <td>$30,299</td>\n",
       "      <td>3.2</td>\n",
       "      <td>6.0</td>\n",
       "      <td>270.0</td>\n",
       "      <td>20.0</td>\n",
       "      <td>28.0</td>\n",
       "      <td>3575.0</td>\n",
       "      <td>108.0</td>\n",
       "      <td>186.0</td>\n",
       "    </tr>\n",
       "    <tr>\n",
       "      <th>4</th>\n",
       "      <td>Acura</td>\n",
       "      <td>3.5 RL 4dr</td>\n",
       "      <td>Sedan</td>\n",
       "      <td>Asia</td>\n",
       "      <td>Front</td>\n",
       "      <td>$43,755</td>\n",
       "      <td>$39,014</td>\n",
       "      <td>3.5</td>\n",
       "      <td>6.0</td>\n",
       "      <td>225.0</td>\n",
       "      <td>18.0</td>\n",
       "      <td>24.0</td>\n",
       "      <td>3880.0</td>\n",
       "      <td>115.0</td>\n",
       "      <td>197.0</td>\n",
       "    </tr>\n",
       "  </tbody>\n",
       "</table>\n",
       "</div>"
      ],
      "text/plain": [
       "    Make           Model   Type Origin DriveTrain      MSRP   Invoice  \\\n",
       "0  Acura             MDX    SUV   Asia        All  $36,945   $33,337    \n",
       "1  Acura  RSX Type S 2dr  Sedan   Asia      Front  $23,820   $21,761    \n",
       "2  Acura         TSX 4dr  Sedan   Asia      Front  $26,990   $24,647    \n",
       "3  Acura          TL 4dr  Sedan   Asia      Front  $33,195   $30,299    \n",
       "4  Acura      3.5 RL 4dr  Sedan   Asia      Front  $43,755   $39,014    \n",
       "\n",
       "   EngineSize  Cylinders  Horsepower  MPG_City  MPG_Highway  Weight  \\\n",
       "0         3.5        6.0       265.0      17.0         23.0  4451.0   \n",
       "1         2.0        4.0       200.0      24.0         31.0  2778.0   \n",
       "2         2.4        4.0       200.0      22.0         29.0  3230.0   \n",
       "3         3.2        6.0       270.0      20.0         28.0  3575.0   \n",
       "4         3.5        6.0       225.0      18.0         24.0  3880.0   \n",
       "\n",
       "   Wheelbase  Length  \n",
       "0      106.0   189.0  \n",
       "1      101.0   172.0  \n",
       "2      105.0   183.0  \n",
       "3      108.0   186.0  \n",
       "4      115.0   197.0  "
      ]
     },
     "execution_count": 3,
     "metadata": {},
     "output_type": "execute_result"
    }
   ],
   "source": [
    "car.head()"
   ]
  },
  {
   "cell_type": "code",
   "execution_count": 5,
   "metadata": {},
   "outputs": [
    {
     "data": {
      "text/plain": [
       "(432, 15)"
      ]
     },
     "execution_count": 5,
     "metadata": {},
     "output_type": "execute_result"
    }
   ],
   "source": [
    "car.shape"
   ]
  },
  {
   "cell_type": "code",
   "execution_count": 7,
   "metadata": {},
   "outputs": [
    {
     "data": {
      "text/plain": [
       "Make           4\n",
       "Model          4\n",
       "Type           4\n",
       "Origin         4\n",
       "DriveTrain     4\n",
       "MSRP           4\n",
       "Invoice        4\n",
       "EngineSize     4\n",
       "Cylinders      6\n",
       "Horsepower     4\n",
       "MPG_City       4\n",
       "MPG_Highway    4\n",
       "Weight         4\n",
       "Wheelbase      4\n",
       "Length         4\n",
       "dtype: int64"
      ]
     },
     "execution_count": 7,
     "metadata": {},
     "output_type": "execute_result"
    }
   ],
   "source": [
    "car.isnull().sum()"
   ]
  },
  {
   "cell_type": "code",
   "execution_count": 9,
   "metadata": {},
   "outputs": [
    {
     "name": "stdout",
     "output_type": "stream",
     "text": [
      "Make           0\n",
      "Model          0\n",
      "Type           0\n",
      "Origin         0\n",
      "DriveTrain     0\n",
      "MSRP           0\n",
      "Invoice        0\n",
      "EngineSize     0\n",
      "Cylinders      0\n",
      "Horsepower     0\n",
      "MPG_City       0\n",
      "MPG_Highway    0\n",
      "Weight         0\n",
      "Wheelbase      0\n",
      "Length         0\n",
      "dtype: int64\n"
     ]
    }
   ],
   "source": [
    "# Replace null values in numerical columns with the mean of that column\n",
    "numerical_columns = car.select_dtypes(include=['float64', 'int64']).columns   # car.select_dtypes (selects all columns in dataframe tht are of type so and so)\n",
    "car[numerical_columns] = car[numerical_columns].fillna(car[numerical_columns].mean()) \n",
    "\n",
    "# For one column for example: 'Cylinder' --- car['Cylinders'].fillna(car['Cylinders'].mean(), inplace = True)\n",
    "\n",
    "# Replace null values in categorical columns with the mode\n",
    "categorical_columns = car.select_dtypes(include=['object']).columns\n",
    "car[categorical_columns] = car[categorical_columns].fillna(car[categorical_columns].mode().iloc[0])\n",
    "\n",
    "# Verify that there are no more null values\n",
    "print(car.isnull().sum())\n"
   ]
  },
  {
   "cell_type": "code",
   "execution_count": 10,
   "metadata": {},
   "outputs": [
    {
     "data": {
      "text/plain": [
       "Make\n",
       "Toyota           32\n",
       "Chevrolet        27\n",
       "Mercedes-Benz    26\n",
       "Ford             23\n",
       "BMW              20\n",
       "Audi             19\n",
       "Honda            17\n",
       "Nissan           17\n",
       "Volkswagen       15\n",
       "Chrysler         15\n",
       "Dodge            13\n",
       "Mitsubishi       13\n",
       "Volvo            12\n",
       "Jaguar           12\n",
       "Hyundai          12\n",
       "Subaru           11\n",
       "Pontiac          11\n",
       "Mazda            11\n",
       "Lexus            11\n",
       "Kia              11\n",
       "Buick             9\n",
       "Mercury           9\n",
       "Lincoln           9\n",
       "Saturn            8\n",
       "Cadillac          8\n",
       "Suzuki            8\n",
       "Infiniti          8\n",
       "GMC               8\n",
       "Acura             7\n",
       "Porsche           7\n",
       "Saab              7\n",
       "Land Rover        3\n",
       "Oldsmobile        3\n",
       "Jeep              3\n",
       "Scion             2\n",
       "Isuzu             2\n",
       "MINI              2\n",
       "Hummer            1\n",
       "dtype: int64"
      ]
     },
     "execution_count": 10,
     "metadata": {},
     "output_type": "execute_result"
    }
   ],
   "source": [
    "car.value_counts('Make') # car['Make'].value_counts() alternative method"
   ]
  },
  {
   "cell_type": "code",
   "execution_count": 14,
   "metadata": {},
   "outputs": [
    {
     "name": "stdout",
     "output_type": "stream",
     "text": [
      "    Make           Model   Type Origin DriveTrain      MSRP   Invoice  \\\n",
      "0  Acura             MDX    SUV   Asia        All  $36,945   $33,337    \n",
      "1  Acura  RSX Type S 2dr  Sedan   Asia      Front  $23,820   $21,761    \n",
      "2  Acura         TSX 4dr  Sedan   Asia      Front  $26,990   $24,647    \n",
      "3  Acura          TL 4dr  Sedan   Asia      Front  $33,195   $30,299    \n",
      "4  Acura      3.5 RL 4dr  Sedan   Asia      Front  $43,755   $39,014    \n",
      "\n",
      "   EngineSize  Cylinders  Horsepower  MPG_City  MPG_Highway  Weight  \\\n",
      "0         3.5        6.0       265.0      17.0         23.0  4451.0   \n",
      "1         2.0        4.0       200.0      24.0         31.0  2778.0   \n",
      "2         2.4        4.0       200.0      22.0         29.0  3230.0   \n",
      "3         3.2        6.0       270.0      20.0         28.0  3575.0   \n",
      "4         3.5        6.0       225.0      18.0         24.0  3880.0   \n",
      "\n",
      "   Wheelbase  Length  \n",
      "0      106.0   189.0  \n",
      "1      101.0   172.0  \n",
      "2      105.0   183.0  \n",
      "3      108.0   186.0  \n",
      "4      115.0   197.0  \n"
     ]
    }
   ],
   "source": [
    "# Filter records where the car's origin is either Asia or Europe\n",
    "filtered_cars = car[(car['Origin'] == 'Asia') | (car['Origin'] == 'Europe')]\n",
    "print(filtered_cars.head())\n",
    "\n",
    "# Alternative method\n",
    "filtered_cars = car[car['Origin'].isin(['Asia', 'Europe'])]\n",
    "print(filtered_cars.head()) \n"
   ]
  },
  {
   "cell_type": "code",
   "execution_count": 15,
   "metadata": {},
   "outputs": [
    {
     "name": "stdout",
     "output_type": "stream",
     "text": [
      "(329, 15)\n"
     ]
    }
   ],
   "source": [
    "car = car[car['Weight'] <= 4000]\n",
    "print(car.shape)"
   ]
  },
  {
   "cell_type": "code",
   "execution_count": 19,
   "metadata": {},
   "outputs": [
    {
     "name": "stdout",
     "output_type": "stream",
     "text": [
      "   MPG_City\n",
      "1      30.0\n",
      "2      28.0\n",
      "3      26.0\n",
      "4      24.0\n",
      "5      24.0\n"
     ]
    }
   ],
   "source": [
    "# Increase all values in 'MPG_City' by 3\n",
    "car['MPG_City'] = car['MPG_City'] + 3\n",
    "print(car[['MPG_City']].head())\n",
    "\n",
    "# Alternative method\n",
    "car['MPG_City'] = car['MPG_City'].apply(lambda x: x + 3)\n",
    "print(car[['MPG_City']].head())\n",
    "\n"
   ]
  }
 ],
 "metadata": {
  "kernelspec": {
   "display_name": "Python 3",
   "language": "python",
   "name": "python3"
  },
  "language_info": {
   "codemirror_mode": {
    "name": "ipython",
    "version": 3
   },
   "file_extension": ".py",
   "mimetype": "text/x-python",
   "name": "python",
   "nbconvert_exporter": "python",
   "pygments_lexer": "ipython3",
   "version": "3.11.0"
  }
 },
 "nbformat": 4,
 "nbformat_minor": 2
}
